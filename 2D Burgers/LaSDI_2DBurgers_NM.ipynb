{
 "cells": [
  {
   "cell_type": "markdown",
   "metadata": {},
   "source": [
    "# 2D Burger's LaSDI-NM Example"
   ]
  },
  {
   "cell_type": "code",
   "execution_count": null,
   "metadata": {},
   "outputs": [],
   "source": [
    "import os\n",
    "import time\n",
    "import sys\n",
    "import numpy as np\n",
    "import matplotlib\n",
    "import matplotlib.pyplot as plt\n",
    "from matplotlib.animation import FuncAnimation\n",
    "import numpy.linalg as LA\n",
    "from itertools import product\n",
    "import torch\n",
    "import torch.nn as nn\n",
    "import pickle\n",
    "\n",
    "hypar_dir = os.environ.get('HYPAR_DIR')\n",
    "hypar_dir_python = hypar_dir + '/Examples/Python'\n",
    "sys.path.append(hypar_dir_python)\n",
    "\n",
    "lasdi_dir = os.environ.get('LASDI_DIR')\n",
    "sys.path.append(lasdi_dir)\n",
    "\n",
    "import modHyParUtils as hyparutils\n",
    "import modLaSDIUtils as lasdiutils\n",
    "import modAutoEncoder as autoencoder\n",
    "from LaSDI import LaSDI"
   ]
  },
  {
   "cell_type": "code",
   "execution_count": null,
   "metadata": {},
   "outputs": [],
   "source": [
    "matplotlib.rcParams['mathtext.fontset'] = 'stix'\n",
    "matplotlib.rcParams['font.family'] = 'STIXGeneral'\n",
    "matplotlib.pyplot.title(r'ABC123 vs $\\mathrm{ABC123}^{123}$')\n",
    "plt.rcParams['font.size'] = 24\n",
    "plt.rcParams['axes.linewidth'] = 2\n",
    "plt.rcParams['lines.linewidth'] = 3\n",
    "plt.rcParams['lines.markersize'] = 10\n",
    "plt.rcParams['axes.spines.right'] = False\n",
    "plt.rcParams['axes.spines.top'] = False\n",
    "plt.rcParams['legend.frameon'] = False\n",
    "plt.rcParams['legend.fontsize'] = 24\n",
    "plt.rcParams['axes.labelsize'] = 28\n",
    "plt.rcParams['figure.dpi'] = 150"
   ]
  },
  {
   "cell_type": "code",
   "execution_count": null,
   "metadata": {},
   "outputs": [],
   "source": [
    "!nvidia-smi\n",
    "torch.cuda.empty_cache()"
   ]
  },
  {
   "cell_type": "markdown",
   "metadata": {},
   "source": [
    "### Load Necessary simulations and models from Build and Train files."
   ]
  },
  {
   "cell_type": "code",
   "execution_count": null,
   "metadata": {},
   "outputs": [],
   "source": [
    "LS_dim = 3\n",
    "snapshot_file = './data/snapshot_git.p'\n",
    "model_file_u = './model/AE_u_git.tar'\n",
    "model_file_v = './model/AE_v_git.tar'\n",
    "FOM_file = './data/FOM.p' "
   ]
  },
  {
   "cell_type": "code",
   "execution_count": null,
   "metadata": {},
   "outputs": [],
   "source": [
    "# Set print option\n",
    "np.set_printoptions(threshold=sys.maxsize)\n",
    "\n",
    "# Choose device that is not being used\n",
    "gpu_ids = \"1\"\n",
    "os.environ[\"CUDA_DEVICE_ORDER\"]=\"PCI_BUS_ID\"   # see issue #152\n",
    "os.environ[\"CUDA_VISIBLE_DEVICES\"]=gpu_ids\n",
    "\n",
    "# Set device\n",
    "device = torch.device(\"cuda\" if torch.cuda.is_available() else \"cpu\")\n",
    "print(\"Using device:\", device, '\\n')\n",
    "\n",
    "# Given parameters\n",
    "nx = 60\n",
    "ny = 60\n",
    "m = (ny-2)*(nx-2) # 900\n",
    "nt = 1500\n",
    "tstop = 2\n",
    "dt = tstop/nt\n",
    "t = np.linspace(0,tstop,nt)\n",
    "\n",
    "# Choose either Re=10000 or Re=100\n",
    "Re = 10000 \n",
    "    \n",
    "# Choose data normalize option (option 1: -1<=X<=1 option 2: 0<=X<=1)\n",
    "option = 2\n",
    "\n",
    "# Choose activation function (sigmoid, swish)\n",
    "activation = 'sigmoid'\n",
    "\n",
    "# set the number of nodes in each layer\n",
    "a = 2\n",
    "b = int(100)\n",
    "db = int(10)\n",
    "M1 = int(a*m) # encoder hidden layer\n",
    "M2 = b + (m-1)*db # decoder hidden layer\n",
    "\n",
    "f = LS_dim # latent dimension\n",
    "mask = lasdiutils.create_mask_2d(nx,ny,m,b,db)"
   ]
  },
  {
   "cell_type": "code",
   "execution_count": null,
   "metadata": {},
   "outputs": [],
   "source": [
    "encoder_class = autoencoder.Encoder\n",
    "decoder_class = autoencoder.Decoder\n",
    "if activation=='sigmoid':\n",
    "  f_activation = nn.Sigmoid\n",
    "elif activation=='swish':\n",
    "  f_activation = autoencoder.SiLU\n",
    "else:\n",
    "    raise NameError('{} is given for option, but it must be either sigmoid or swish'.format(activation))\n",
    "\n",
    "\n",
    "encoder_u, decoder_u = autoencoder.readAEFromFile(  encoder_class,\n",
    "                                                    decoder_class,\n",
    "                                                    f_activation,\n",
    "                                                    mask,\n",
    "                                                    m, f, M1, M2,\n",
    "                                                    device,\n",
    "                                                    model_file_u )\n",
    "\n",
    "encoder_v, decoder_v = autoencoder.readAEFromFile(  encoder_class,\n",
    "                                                    decoder_class,\n",
    "                                                    f_activation,\n",
    "                                                    mask,\n",
    "                                                    m, f, M1, M2,\n",
    "                                                    device,\n",
    "                                                    model_file_v )"
   ]
  },
  {
   "cell_type": "code",
   "execution_count": null,
   "metadata": {},
   "outputs": [],
   "source": [
    "snapshot = pickle.load(open(snapshot_file, 'rb'))\n",
    "\n",
    "snapshot_u = snapshot['u'].reshape(-1,nx*ny).astype('float32')\n",
    "snapshot_v = snapshot['v'].reshape(-1,nx*ny).astype('float32')\n",
    "ndata = snapshot_u.shape[0]\n",
    "\n",
    "nset = round(ndata/(nt+1))\n",
    "\n",
    "# remove BC\n",
    "multi_index_i,multi_index_j=np.meshgrid(np.arange(nx),np.arange(ny),indexing='xy')\n",
    "full_multi_index=(multi_index_j.flatten(),multi_index_i.flatten())\n",
    "free_multi_index=(multi_index_j[1:-1,1:-1].flatten(),multi_index_i[1:-1,1:-1].flatten())\n",
    "\n",
    "dims=(ny,nx)\n",
    "full_raveled_indicies=np.ravel_multi_index(full_multi_index,dims)\n",
    "free_raveled_indicies=np.ravel_multi_index(free_multi_index,dims)\n",
    "\n",
    "orig_data_u = snapshot_u[:,free_raveled_indicies]\n",
    "orig_data_v = snapshot_v[:,free_raveled_indicies]\n",
    "\n",
    "[xv,yv]=np.meshgrid(np.linspace(-3,3,nx),np.linspace(-3,3,ny),indexing='xy')\n",
    "x=xv.flatten()\n",
    "y=yv.flatten()\n",
    "\n",
    "x_free=x[free_raveled_indicies]\n",
    "y_free=y[free_raveled_indicies]"
   ]
  },
  {
   "cell_type": "markdown",
   "metadata": {},
   "source": [
    "### Generate Latent-Space Trajectories for Training Data"
   ]
  },
  {
   "cell_type": "code",
   "execution_count": null,
   "metadata": {},
   "outputs": [],
   "source": [
    "latent_space_SS_u = autoencoder.encodedSnapshots(encoder_u, orig_data_u, nt+1, device)\n",
    "latent_space_SS_v = autoencoder.encodedSnapshots(encoder_v, orig_data_u, nt+1, device)"
   ]
  },
  {
   "cell_type": "code",
   "execution_count": null,
   "metadata": {},
   "outputs": [],
   "source": [
    "amp_arr = [.75,.85]\n",
    "width_arr = [.95,1.05]\n",
    "P = list(product(amp_arr, width_arr))\n",
    "P = np.array(P)"
   ]
  },
  {
   "cell_type": "markdown",
   "metadata": {},
   "source": [
    "### Generate LaSDI-NM Models for $U$ and $V$"
   ]
  },
  {
   "cell_type": "code",
   "execution_count": null,
   "metadata": {},
   "outputs": [],
   "source": [
    "print('Dynamical System for U')\n",
    "normal_u = np.amax(np.abs(latent_space_SS_u))\n",
    "LaSDI_model_u = LaSDI(encoder_u, decoder_u, NN = True, device = device)\n",
    "LaSDI_model_u.train_dynamics(latent_space_SS_u, P, dt, degree = 3, include_interaction = True, normal = normal_u)\n",
    "\n",
    "print('\\nDynamical System for V')\n",
    "normal_v = np.amax(np.abs(latent_space_SS_v))\n",
    "LaSDI_model_v = LaSDI(encoder_v, decoder_v, NN = True, device = device)\n",
    "LaSDI_model_v.train_dynamics(latent_space_SS_v, P, dt, degree = 3, normal = normal_v, include_interaction = True)"
   ]
  },
  {
   "cell_type": "markdown",
   "metadata": {},
   "source": [
    "## Mapping Parameters to Latent Space"
   ]
  },
  {
   "cell_type": "markdown",
   "metadata": {},
   "source": [
    "## Interpolation"
   ]
  },
  {
   "cell_type": "code",
   "execution_count": null,
   "metadata": {},
   "outputs": [],
   "source": [
    "FOM_high_Re = pickle.load(open(FOM_file,'rb'))\n",
    "u_full = FOM_high_Re['u']\n",
    "v_full = FOM_high_Re['v']\n",
    "time_FOM = FOM_high_Re['t']\n",
    "\n",
    "u_full = u_full.reshape(-1, nx*ny)\n",
    "v_full = v_full.reshape(-1,nx*ny)\n",
    "\n",
    "start = time.time()\n",
    "FOM_recon_u = LaSDI_model_u.generate_ROM(u_full[0, free_raveled_indicies].astype('float32'), np.array([0.8,1.0]),t)\n",
    "FOM_recon_v = LaSDI_model_v.generate_ROM(v_full[0, free_raveled_indicies].astype('float32'), np.array([0.8,1.0]),t)\n",
    "LaSDI_time = time.time()-start\n",
    "\n",
    "speed_up = time_FOM/LaSDI_time\n",
    "max_re = np.empty(2)\n",
    "test = []\n",
    "for k in range(int(nt)):\n",
    "    test.append(LA.norm(FOM_recon_u[k].reshape(ny-2,nx-2)-u_full[k,free_raveled_indicies].reshape(ny-2,nx-2))/LA.norm(u_full[k,free_raveled_indicies].reshape(ny-2,nx-2))*100)\n",
    "max_re[0] = np.amax(test)\n",
    "\n",
    "test = []\n",
    "for k in range(int(nt)):\n",
    "    test.append(LA.norm(FOM_recon_v[k].reshape(ny-2,nx-2)-v_full[k,free_raveled_indicies].reshape(ny-2,nx-2))/LA.norm(v_full[k,free_raveled_indicies].reshape(ny-2,nx-2))*100)\n",
    "max_re[1] = np.amax(test) "
   ]
  },
  {
   "cell_type": "code",
   "execution_count": null,
   "metadata": {},
   "outputs": [],
   "source": [
    "plt.rcParams['figure.dpi'] = 150 \n",
    "fig = plt.figure()\n",
    "ax1 = fig.add_subplot(2,3,1)\n",
    "fig.set_size_inches(12,6)\n",
    "z=plt.pcolormesh(x_free.reshape(nx-2,ny-2),y_free.reshape(nx-2,ny-2),u_full[k,free_raveled_indicies].reshape(nx-2,ny-2), shading = 'nearest')\n",
    "# fig.colorbar(z, ax = ax1)\n",
    "fig.suptitle('Max Relative Error: {:.2f}%. Speed up: {:.1f}'.format(np.amax(max_re), speed_up), y = 1.05)\n",
    "ax1.set_title('Original')\n",
    "ax1.set_ylabel('U')\n",
    "\n",
    "ax2 = fig.add_subplot(2,3,2)\n",
    "z=plt.pcolormesh(x_free.reshape(nx-2,ny-2),y_free.reshape(nx-2,ny-2),FOM_recon_u[k].reshape(nx-2,ny-2), shading = 'nearest')\n",
    "# fig.colorbar(z, ax = ax2)\n",
    "ax2.set_title('LaSDI-NM')\n",
    "\n",
    "ax3 = fig.add_subplot(2,3,3)\n",
    "z=plt.pcolormesh(x_free.reshape(nx-2,ny-2),y_free.reshape(nx-2,ny-2),np.abs(FOM_recon_u[k].reshape(nx-2,ny-2)-u_full[k,free_raveled_indicies].reshape(nx-2,ny-2))/LA.norm(u_full[k,free_raveled_indicies].reshape(nx-2,ny-2)), shading = 'nearest')\n",
    "fig.colorbar(z, ax = ax3)\n",
    "ax3.set_title('Relative Error')\n",
    "\n",
    "ax4 = fig.add_subplot(2,3,4)\n",
    "z=plt.pcolormesh(x_free.reshape(nx-2,ny-2),y_free.reshape(nx-2,ny-2),v_full[k,free_raveled_indicies].reshape(nx-2,ny-2), shading = 'nearest')\n",
    "# fig.colorbar(z, ax = ax4)\n",
    "ax4.set_ylabel('V')\n",
    "\n",
    "ax5 = fig.add_subplot(2,3,5)\n",
    "z=plt.pcolormesh(x_free.reshape(nx-2,ny-2),y_free.reshape(nx-2,ny-2),FOM_recon_v[k].reshape(nx-2,ny-2), shading = 'nearest')\n",
    "# fig.colorbar(z, ax = ax5)\n",
    "\n",
    "ax6 = fig.add_subplot(2,3,6)\n",
    "z=plt.pcolormesh(x_free.reshape(nx-2,ny-2),y_free.reshape(nx-2,ny-2),np.abs(FOM_recon_v[k].reshape(nx-2,ny-2)-v_full[k,free_raveled_indicies].reshape(nx-2,ny-2))/LA.norm(v_full[k,free_raveled_indicies].reshape(nx-2,ny-2)), shading = 'nearest')\n",
    "fig.colorbar(z, ax = ax6)"
   ]
  },
  {
   "cell_type": "code",
   "execution_count": null,
   "metadata": {},
   "outputs": [],
   "source": [
    "fig = plt.figure()\n",
    "fig.suptitle('Relative Error for FOM reconstruction via LaSDI-NM', y = 1.07)\n",
    "ax = plt.axes()\n",
    "ax.set_title('Max Relative Error: {:.3}%'.format(np.amax(test)))\n",
    "ax.plot(t, test)\n",
    "ax.set_xlabel('Time')\n",
    "ax.set_ylabel('Relative Error (%)')\n",
    "plt.show()"
   ]
  }
 ],
 "metadata": {
  "kernelspec": {
   "display_name": "Python 3",
   "language": "python",
   "name": "python3"
  },
  "language_info": {
   "codemirror_mode": {
    "name": "ipython",
    "version": 3
   },
   "file_extension": ".py",
   "mimetype": "text/x-python",
   "name": "python",
   "nbconvert_exporter": "python",
   "pygments_lexer": "ipython3",
   "version": "3.8.10"
  }
 },
 "nbformat": 4,
 "nbformat_minor": 4
}

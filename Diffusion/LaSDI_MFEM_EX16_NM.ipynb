{
 "cells": [
  {
   "cell_type": "markdown",
   "metadata": {},
   "source": [
    "# Diffusion LaSDI-NM Example (MFEM Example 16)"
   ]
  },
  {
   "cell_type": "code",
   "execution_count": 1,
   "metadata": {},
   "outputs": [],
   "source": [
    "import torch\n",
    "import torch.nn as nn\n",
    "import torch.nn.utils.prune as prune\n",
    "import numpy as np\n",
    "import numpy.linalg as LA\n",
    "\n",
    "from scipy import sparse as sp\n",
    "from scipy import sparse\n",
    "from scipy.sparse import spdiags\n",
    "from scipy.sparse import linalg\n",
    "from scipy.io import savemat,loadmat\n",
    "import matplotlib.pyplot as plt\n",
    "import matplotlib.animation as animation \n",
    "from mpl_toolkits.mplot3d import Axes3D\n",
    "from matplotlib import cm\n",
    "plt.rcParams['figure.dpi'] = 150 \n",
    "from itertools import combinations_with_replacement, product\n",
    "from tqdm.notebook import trange, tqdm\n",
    "import sys,time\n",
    "import os\n",
    "import copy\n",
    "import pickle\n",
    "sys.path.append(\"..\") # Adds higher directory to python modules path.\n",
    "from LaSDI import LaSDI"
   ]
  },
  {
   "cell_type": "code",
   "execution_count": 2,
   "metadata": {},
   "outputs": [
    {
     "name": "stdout",
     "output_type": "stream",
     "text": [
      "Mon Nov 29 13:40:57 2021       \n",
      "+-----------------------------------------------------------------------------+\n",
      "| NVIDIA-SMI 440.95.01    Driver Version: 440.95.01    CUDA Version: 10.2     |\n",
      "|-------------------------------+----------------------+----------------------+\n",
      "| GPU  Name        Persistence-M| Bus-Id        Disp.A | Volatile Uncorr. ECC |\n",
      "| Fan  Temp  Perf  Pwr:Usage/Cap|         Memory-Usage | GPU-Util  Compute M. |\n",
      "|===============================+======================+======================|\n",
      "|   0  Tesla V100-SXM2...  On   | 00000004:04:00.0 Off |                    0 |\n",
      "| N/A   42C    P0    54W / 300W |   7549MiB / 16160MiB |      0%      Default |\n",
      "+-------------------------------+----------------------+----------------------+\n",
      "|   1  Tesla V100-SXM2...  On   | 00000004:05:00.0 Off |                    0 |\n",
      "| N/A   46C    P0    52W / 300W |   1753MiB / 16160MiB |      0%      Default |\n",
      "+-------------------------------+----------------------+----------------------+\n",
      "|   2  Tesla V100-SXM2...  On   | 00000035:03:00.0 Off |                    0 |\n",
      "| N/A   43C    P0    66W / 300W |  15349MiB / 16160MiB |     23%      Default |\n",
      "+-------------------------------+----------------------+----------------------+\n",
      "|   3  Tesla V100-SXM2...  On   | 00000035:04:00.0 Off |                    0 |\n",
      "| N/A   44C    P0    38W / 300W |     11MiB / 16160MiB |      0%      Default |\n",
      "+-------------------------------+----------------------+----------------------+\n",
      "                                                                               \n",
      "+-----------------------------------------------------------------------------+\n",
      "| Processes:                                                       GPU Memory |\n",
      "|  GPU       PID   Type   Process name                             Usage      |\n",
      "|=============================================================================|\n",
      "|    0     66148      C   python                                      7073MiB |\n",
      "|    1     49575      C   /g/g92/he10/.conda/envs/tfvenv/bin/python    999MiB |\n",
      "|    1     76915      C   /g/g92/he10/.conda/envs/tfvenv/bin/python    741MiB |\n",
      "|    2     44713      C   /g/g92/he10/.conda/envs/tfvenv/bin/python   1509MiB |\n",
      "|    2     48256      C   /g/g92/he10/.conda/envs/tfvenv/bin/python    741MiB |\n",
      "|    2     51632      C   .../fries4/GitHub/NM-ROM/nm-rom/bin/python  5227MiB |\n",
      "|    2     74115      C   /g/g92/he10/.conda/envs/tfvenv/bin/python    741MiB |\n",
      "|    2     80433      C   /g/g92/he10/.conda/envs/tfvenv/bin/python   2533MiB |\n",
      "|    2     81317      C   /g/g92/he10/.conda/envs/tfvenv/bin/python   4581MiB |\n",
      "+-----------------------------------------------------------------------------+\n"
     ]
    }
   ],
   "source": [
    "!nvidia-smi\n",
    "torch.cuda.empty_cache()"
   ]
  },
  {
   "cell_type": "markdown",
   "metadata": {},
   "source": [
    "### Import training simulations, parameters, etc. and NN"
   ]
  },
  {
   "cell_type": "code",
   "execution_count": 3,
   "metadata": {},
   "outputs": [],
   "source": [
    "# Given parameters\n",
    "nx = 64\n",
    "ny = 64\n",
    "nxy = (ny)*(nx) # 3364\n",
    "nt = 100\n",
    "tstop = 1\n",
    "dt = tstop/nt\n",
    "m = (ny-2)*(nx-2) # 3364"
   ]
  },
  {
   "cell_type": "code",
   "execution_count": 4,
   "metadata": {},
   "outputs": [],
   "source": [
    "training_rad = np.arange(80,130,40) \n",
    "training_iv = np.arange(180,230,40)\n",
    "training_values = list(product(training_rad,training_iv))\n",
    "nset = len(training_values)"
   ]
  },
  {
   "cell_type": "code",
   "execution_count": 6,
   "metadata": {},
   "outputs": [],
   "source": [
    "snapshot_full = np.empty([nxy, nset*nt]).T\n",
    "for foo, sample in enumerate(training_values):\n",
    "    ex = np.load('./data/ex16_w_{}_a_{}.npz'.format(sample[0], sample[1]), allow_pickle = True)\n",
    "    ex = ex.f.arr_0\n",
    "    snapshot_full[nt*foo:nt*(foo+1)] = ex"
   ]
  },
  {
   "cell_type": "code",
   "execution_count": 7,
   "metadata": {},
   "outputs": [],
   "source": [
    "multi_index_i,multi_index_j=np.meshgrid(np.arange(nx),np.arange(ny),indexing='xy')\n",
    "full_multi_index=(multi_index_j.flatten(),multi_index_i.flatten())\n",
    "free_multi_index=(multi_index_j[1:-1,1:-1].flatten(),multi_index_i[1:-1,1:-1].flatten())\n",
    "\n",
    "dims=(ny,nx)\n",
    "full_raveled_indicies=np.ravel_multi_index(full_multi_index,dims)\n",
    "free_raveled_indicies=np.ravel_multi_index(free_multi_index,dims)\n",
    "\n",
    "rescale  = np.amax(snapshot_full)\n",
    "snapshot_full = snapshot_full[:,free_raveled_indicies]/rescale\n",
    "\n",
    "\n",
    "\n",
    "[xv,yv]=np.meshgrid(np.linspace(0,1,nx),np.linspace(0,1,ny),indexing='xy')\n",
    "x=xv.flatten()\n",
    "y=yv.flatten()\n",
    "\n",
    "x_free=x[free_raveled_indicies]\n",
    "y_free=y[free_raveled_indicies]"
   ]
  },
  {
   "cell_type": "code",
   "execution_count": 14,
   "metadata": {},
   "outputs": [
    {
     "name": "stdout",
     "output_type": "stream",
     "text": [
      "Using device: cuda \n",
      "\n",
      "Sparsity in 3844 by 38530 mask: 99.18%\n"
     ]
    },
    {
     "data": {
      "text/plain": [
       "<All keys matched successfully>"
      ]
     },
     "execution_count": 14,
     "metadata": {},
     "output_type": "execute_result"
    }
   ],
   "source": [
    "LS_dim = 4\n",
    "# Choose device that is not being used\n",
    "gpu_ids = \"1\"\n",
    "os.environ[\"CUDA_DEVICE_ORDER\"]=\"PCI_BUS_ID\"   # see issue #152\n",
    "os.environ[\"CUDA_VISIBLE_DEVICES\"]=gpu_ids\n",
    "\n",
    "# Set device\n",
    "device = torch.device(\"cuda\" if torch.cuda.is_available() else \"cpu\")\n",
    "print(\"Using device:\", device, '\\n')\n",
    "\n",
    "model = torch.load('./model/ex16_AE_git.tar'.format(LS_dim), map_location=device)    \n",
    "\n",
    "maxk = 10\n",
    "convergence_threshold = 1.0e-8\n",
    "\n",
    "t = np.linspace(0, tstop, nt)\n",
    "\n",
    "# set the number of nodes in each layer\n",
    "a = 2\n",
    "b = int(100)\n",
    "db = int(10)\n",
    "\n",
    "M1 = int(a*m) # encoder hidden layer\n",
    "M2 = b + (m-1)*db # decoder hidden layer\n",
    "f = LS_dim\n",
    "\n",
    "\n",
    "def create_mask_2d(m,b,db):\n",
    "\n",
    "    # local\n",
    "    Mb=sp.diags([np.ones(nx-2),np.ones(nx-2),np.ones(nx-2)],[0,-1,1],(nx-2,nx-2))\n",
    "    M=sp.kron(sp.eye(ny-2),Mb,format=\"csr\")\n",
    "\n",
    "    Ib=sp.eye(nx-2)\n",
    "    N=sp.kron(sp.diags([np.ones(ny-2),np.ones(ny-2),np.ones(ny-2)],[0,-1,1],(ny-2,ny-2)),Ib,format=\"csr\")\n",
    "\n",
    "    local=(M+N).astype('int8')\n",
    "    I,J,V=sp.find(local)\n",
    "    local[I,J]=1\n",
    "\n",
    "    # basis\n",
    "    M2 = int(b + db*(m-1))\n",
    "    basis = np.zeros((m,M2),dtype='int8')\n",
    "\n",
    "    block = np.ones(b,dtype='int8')\n",
    "    ind = np.arange(b)\n",
    "    for row in range(m):\n",
    "        col = ind + row*db\n",
    "        basis[row,col] = block\n",
    "\n",
    "    # mask\n",
    "    col_ind=np.array([],dtype='int8')\n",
    "    row_ind=np.array([],dtype='int8')\n",
    "    for i in range(m):\n",
    "        col=basis[sp.find(local[i])[1]].sum(axis=0).nonzero()[0]\n",
    "        row=i*np.ones(col.size)\n",
    "\n",
    "        col_ind=np.append(col_ind,col)\n",
    "        row_ind=np.append(row_ind,row)\n",
    "\n",
    "    data=np.ones(row_ind.size,dtype='int8')\n",
    "    mask=sp.csr_matrix((data,(row_ind,col_ind)),shape=(m,M2)).toarray()\n",
    "\n",
    "    print(\n",
    "        \"Sparsity in {} by {} mask: {:.2f}%\".format(\n",
    "            m, M2, (1.0-np.count_nonzero(mask)/np.prod(mask.shape))*100\n",
    "        )\n",
    "    )\n",
    "\n",
    "\n",
    "    return mask\n",
    "\n",
    "\n",
    "\n",
    "class Encoder(nn.Module):\n",
    "    def __init__(self,m,M1,f):\n",
    "        super(Encoder,self).__init__()\n",
    "        self.full = nn.Sequential(\n",
    "            nn.Linear(m,M1),\n",
    "            nn.Sigmoid(),\n",
    "            nn.Linear(M1,f,bias=False)\n",
    "        )\n",
    "\n",
    "    def forward(self, y):     \n",
    "        y = y.view(-1,m)\n",
    "        T = self.full(y)\n",
    "        T = T.squeeze()\n",
    "\n",
    "        return T\n",
    "\n",
    "class Decoder(nn.Module):\n",
    "    def __init__(self,f,M2,m):\n",
    "        super(Decoder,self).__init__()\n",
    "        self.full = nn.Sequential(\n",
    "            nn.Linear(f,M2),\n",
    "            nn.Sigmoid(),\n",
    "            nn.Linear(M2,m,bias=False)\n",
    "        )\n",
    "\n",
    "    def forward(self,T):\n",
    "        T = T.view(-1,f)\n",
    "        y = self.full(T)\n",
    "        y = y.squeeze()\n",
    "\n",
    "        return y\n",
    "\n",
    "encoder = Encoder(m,M1,f).to(device)\n",
    "decoder = Decoder(f,M2,m).to(device)\n",
    "# Prune\n",
    "mask_2d=create_mask_2d(m,b,db)\n",
    "prune.custom_from_mask(decoder.full[2], name='weight', mask=torch.tensor(mask_2d).to(device))  \n",
    "\n",
    "loss_func = nn.MSELoss(reduction='mean')\n",
    "\n",
    "encoder.load_state_dict(model['encoder_state_dict'])\n",
    "decoder.load_state_dict(model['decoder_state_dict'])"
   ]
  },
  {
   "cell_type": "markdown",
   "metadata": {},
   "source": [
    "### Generate latent-space trajectories for training simulations"
   ]
  },
  {
   "cell_type": "code",
   "execution_count": 16,
   "metadata": {},
   "outputs": [],
   "source": [
    "P = list(product(training_rad, training_iv))\n",
    "P = np.array(P)\n",
    "\n",
    "\n",
    "latent_space_SS = []\n",
    "\n",
    "for foo in range(len(P)):\n",
    "    input_SS=torch.tensor(snapshot_full[foo*(nt+1):(foo+1)*(nt+1)].astype('float32')).to(device)\n",
    "    latent_space = encoder(input_SS).cpu().detach().numpy()\n",
    "    latent_space_SS.append(latent_space)"
   ]
  },
  {
   "cell_type": "markdown",
   "metadata": {},
   "source": [
    "### Generate LaSDI-NM Model"
   ]
  },
  {
   "cell_type": "code",
   "execution_count": null,
   "metadata": {},
   "outputs": [],
   "source": [
    "degree = 1\n",
    "LaSDI_model = LaSDI(encoder, decoder, NN = True, device = 'cuda')\n",
    "LaSDI_model.train_dynamics(latent_space_SS, P, dt, degree = degree, normal = 60, include_interaction = True)"
   ]
  },
  {
   "cell_type": "markdown",
   "metadata": {},
   "source": [
    "### Generate ROM and visualize results"
   ]
  },
  {
   "cell_type": "code",
   "execution_count": 23,
   "metadata": {},
   "outputs": [],
   "source": [
    "FOM = np.load('./data/ex16_a_{}_w_{}.npz'.format(100,200), allow_pickle = True)\n",
    "FOM = FOM.f.arr_0/rescale\n",
    "FOM = FOM[:, free_raveled_indicies]\n",
    "time_start = time.time()\n",
    "FOM_recon = LaSDI_model.generate_ROM(FOM[0], [100,200],t)\n",
    "LaSDI_time = time.time()-time_start"
   ]
  },
  {
   "cell_type": "code",
   "execution_count": 25,
   "metadata": {},
   "outputs": [],
   "source": [
    "FOM_re = np.empty(nt)\n",
    "for j in range(nt):\n",
    "    FOM_re[j] = LA.norm(FOM_recon[j]-FOM[j])/LA.norm(FOM[j])\n",
    "max_re = np.amax(FOM_re)*100\n",
    "speed_up = 4.7/LaSDI_time # Given as average time over multiple simulations on Lassen HPC."
   ]
  },
  {
   "cell_type": "code",
   "execution_count": 26,
   "metadata": {},
   "outputs": [
    {
     "data": {
      "text/plain": [
       "Text(0.5, 1.0, 'Absolute Error')"
      ]
     },
     "execution_count": 26,
     "metadata": {},
     "output_type": "execute_result"
    },
    {
     "data": {
      "image/png": "[encoded data removed]",
      "text/plain": [
       "<Figure size 864x288 with 6 Axes>"
      ]
     },
     "metadata": {
      "needs_background": "light"
     },
     "output_type": "display_data"
    }
   ],
   "source": [
    "k=-1\n",
    "fig = plt.figure()\n",
    "ax1 = fig.add_subplot(1,3,1)\n",
    "ax2 = fig.add_subplot(1,3,2)\n",
    "fig.set_size_inches(12,4)\n",
    "z1=ax1.pcolormesh(x_free.reshape(nx-2,ny-2), y_free.reshape(nx-2,ny-2),FOM[k].reshape(nx-2,ny-2), shading = 'nearest')\n",
    "fig.suptitle('Max Relative Error: {:.2f}%. Speed up: {:.1f}'.format(np.amax(max_re), speed_up))\n",
    "fig.colorbar(z1, ax = ax1)\n",
    "# ax1.axis('equal')\n",
    "ax1.set_title('Original')\n",
    "z1=ax2.pcolormesh(x_free.reshape(nx-2,ny-2), y_free.reshape(nx-2,ny-2),FOM_recon[k].reshape(nx-2,ny-2), shading = 'nearest')\n",
    "fig.colorbar(z1, ax = ax2)\n",
    "# ax2.axis('equal')\n",
    "ax2.set_title('LaSDI-NM')\n",
    "ax3 = fig.add_subplot(1,3,3)\n",
    "z1=ax3.pcolormesh(x_free.reshape(nx-2,ny-2), y_free.reshape(nx-2,ny-2),np.abs(FOM_recon[k].reshape(nx-2,ny-2)-FOM[k].reshape(nx-2,ny-2)).LA.norm(FOM[k].reshape(nx-2,ny-2)), shading = 'nearest')\n",
    "fig.colorbar(z1, ax = ax3)\n",
    "# ax3.axis('equal')\n",
    "ax3.set_title('Relative Error')"
   ]
  },
  {
   "cell_type": "code",
   "execution_count": 19,
   "metadata": {},
   "outputs": [
    {
     "data": {
      "text/plain": [
       "[<matplotlib.lines.Line2D at 0x20027f4b6b00>]"
      ]
     },
     "execution_count": 19,
     "metadata": {},
     "output_type": "execute_result"
    },
    {
     "data": {
      "image/png": "[encoded data removed]",
      "text/plain": [
       "<Figure size 432x288 with 1 Axes>"
      ]
     },
     "metadata": {
      "needs_background": "light"
     },
     "output_type": "display_data"
    }
   ],
   "source": [
    "fig = plt.figure()\n",
    "fig.suptitle('Relative Error for FOM reconstruction via LaSDI-NM')\n",
    "ax = plt.axes()\n",
    "ax.set_title('Max Relative Error: {:.3}%'.format(np.amax(FOM_RE)))\n",
    "ax.plot(t, FOM_RE)\n",
    "ax.set_xlabel('Time')\n",
    "ax.set_ylabel('Relative Error (%)')"
   ]
  },
  {
   "cell_type": "code",
   "execution_count": null,
   "metadata": {},
   "outputs": [],
   "source": []
  }
 ],
 "metadata": {
  "kernelspec": {
   "display_name": "Python 3",
   "language": "python",
   "name": "python3"
  },
  "language_info": {
   "codemirror_mode": {
    "name": "ipython",
    "version": 3
   },
   "file_extension": ".py",
   "mimetype": "text/x-python",
   "name": "python",
   "nbconvert_exporter": "python",
   "pygments_lexer": "ipython3",
   "version": "3.7.3"
  }
 },
 "nbformat": 4,
 "nbformat_minor": 4
}
